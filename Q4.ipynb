{
 "cells": [
  {
   "cell_type": "code",
   "execution_count": 1,
   "id": "5a32a3c9-56ba-4876-ac26-6f62ef11a77d",
   "metadata": {},
   "outputs": [],
   "source": [
    "#Q4. Create a list of length 10 of your choice containing multiple types of data. Using for loop print the element and its type.\n"
   ]
  },
  {
   "cell_type": "code",
   "execution_count": 2,
   "id": "96a2d109-b03c-4416-9690-86b95cdc8445",
   "metadata": {},
   "outputs": [
    {
     "name": "stdout",
     "output_type": "stream",
     "text": [
      "5\n",
      "<class 'int'>\n",
      "masud\n",
      "<class 'str'>\n",
      "7.789\n",
      "<class 'float'>\n",
      "mom\n",
      "<class 'str'>\n",
      "2\n",
      "<class 'int'>\n",
      "7\n",
      "<class 'int'>\n",
      "dad\n",
      "<class 'str'>\n",
      "1.35\n",
      "<class 'float'>\n",
      "60\n",
      "<class 'int'>\n",
      "True\n",
      "<class 'bool'>\n",
      "False\n",
      "<class 'bool'>\n"
     ]
    }
   ],
   "source": [
    "l=[5,\"masud\",7.789,\"mom\",2,7,\"dad\",1.35,60,True,False]\n",
    "for i in l:\n",
    "    print(i)\n",
    "    print(type(i))"
   ]
  },
  {
   "cell_type": "code",
   "execution_count": null,
   "id": "cdc3b90f-f823-4070-96c1-83963eb324bd",
   "metadata": {},
   "outputs": [],
   "source": []
  }
 ],
 "metadata": {
  "kernelspec": {
   "display_name": "Python 3 (ipykernel)",
   "language": "python",
   "name": "python3"
  },
  "language_info": {
   "codemirror_mode": {
    "name": "ipython",
    "version": 3
   },
   "file_extension": ".py",
   "mimetype": "text/x-python",
   "name": "python",
   "nbconvert_exporter": "python",
   "pygments_lexer": "ipython3",
   "version": "3.10.8"
  }
 },
 "nbformat": 4,
 "nbformat_minor": 5
}
