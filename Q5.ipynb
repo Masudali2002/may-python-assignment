{
 "cells": [
  {
   "cell_type": "code",
   "execution_count": 1,
   "id": "b063d4f5-7109-406c-adc7-074f15977879",
   "metadata": {},
   "outputs": [],
   "source": [
    "#Q5. Using a while loop, verify if the number A is purely divisible by number B and if so then how manytimes it can be divisible."
   ]
  },
  {
   "cell_type": "code",
   "execution_count": 4,
   "id": "215803b0-23f4-41db-befd-06de0c32aba8",
   "metadata": {},
   "outputs": [
    {
     "name": "stdin",
     "output_type": "stream",
     "text": [
      " 50\n",
      " 2\n"
     ]
    }
   ],
   "source": [
    "a=int(input())\n",
    "b=int(input())"
   ]
  },
  {
   "cell_type": "code",
   "execution_count": 5,
   "id": "338bd5a0-13d0-43e5-bc37-403d51a67f87",
   "metadata": {},
   "outputs": [
    {
     "name": "stdout",
     "output_type": "stream",
     "text": [
      "a is purely divisible by b\n",
      "1\n",
      "no of times divisible\n"
     ]
    }
   ],
   "source": [
    "i=0\n",
    "while a!=0:\n",
    "    if a%b==0:\n",
    "        i+=1\n",
    "        a/=b\n",
    "    else:\n",
    "        break\n",
    "if i:\n",
    "    print(\"a is purely divisible by b\")\n",
    "    print(i)\n",
    "else:\n",
    "    print(\"a is not purely divisible by b\")\n",
    "    "
   ]
  },
  {
   "cell_type": "code",
   "execution_count": null,
   "id": "44b98271-5705-43b9-bd8f-0584b07747d2",
   "metadata": {},
   "outputs": [],
   "source": []
  }
 ],
 "metadata": {
  "kernelspec": {
   "display_name": "Python 3 (ipykernel)",
   "language": "python",
   "name": "python3"
  },
  "language_info": {
   "codemirror_mode": {
    "name": "ipython",
    "version": 3
   },
   "file_extension": ".py",
   "mimetype": "text/x-python",
   "name": "python",
   "nbconvert_exporter": "python",
   "pygments_lexer": "ipython3",
   "version": "3.10.8"
  }
 },
 "nbformat": 4,
 "nbformat_minor": 5
}
