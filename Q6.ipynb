{
 "cells": [
  {
   "cell_type": "code",
   "execution_count": 1,
   "id": "f372f0ed-75a3-4b9e-83f9-79d40798bdd4",
   "metadata": {},
   "outputs": [],
   "source": [
    "#Q6. Create a list containing 25 int type data. Using for loop and if-else condition print if the element is divisible by 3 or not.\n",
    "\n"
   ]
  },
  {
   "cell_type": "code",
   "execution_count": 2,
   "id": "fe4b98fe-4485-4654-84c6-a9343decf9b7",
   "metadata": {},
   "outputs": [
    {
     "name": "stdout",
     "output_type": "stream",
     "text": [
      "5\n",
      "not divisible by 3\n",
      "6\n",
      "divisible by 3\n",
      "9\n",
      "divisible by 3\n",
      "14\n",
      "not divisible by 3\n",
      "19\n",
      "not divisible by 3\n",
      "24\n",
      "divisible by 3\n",
      "26\n",
      "not divisible by 3\n",
      "28\n",
      "not divisible by 3\n",
      "30\n",
      "divisible by 3\n",
      "34\n",
      "not divisible by 3\n",
      "38\n",
      "not divisible by 3\n",
      "39\n",
      "divisible by 3\n",
      "42\n",
      "divisible by 3\n",
      "46\n",
      "not divisible by 3\n",
      "49\n",
      "not divisible by 3\n",
      "50\n",
      "not divisible by 3\n",
      "56\n",
      "not divisible by 3\n",
      "57\n",
      "divisible by 3\n",
      "59\n",
      "not divisible by 3\n",
      "64\n",
      "not divisible by 3\n",
      "68\n",
      "not divisible by 3\n",
      "73\n",
      "not divisible by 3\n",
      "76\n",
      "not divisible by 3\n",
      "85\n",
      "not divisible by 3\n",
      "97\n",
      "not divisible by 3\n"
     ]
    }
   ],
   "source": [
    "l=[5,6,9,14,19,24,26,28,30,34,38,39,42,46,49,50,56,57,59,64,68,73,76,85,97]\n",
    "for i in l:\n",
    "    if i%3==0:\n",
    "        print(i)\n",
    "        print(\"divisible by 3\")\n",
    "    else:\n",
    "        print(i)\n",
    "        print(\"not divisible by 3\")"
   ]
  },
  {
   "cell_type": "code",
   "execution_count": null,
   "id": "ad0fd383-df1e-4b09-afba-14313fc5d995",
   "metadata": {},
   "outputs": [],
   "source": []
  }
 ],
 "metadata": {
  "kernelspec": {
   "display_name": "Python 3 (ipykernel)",
   "language": "python",
   "name": "python3"
  },
  "language_info": {
   "codemirror_mode": {
    "name": "ipython",
    "version": 3
   },
   "file_extension": ".py",
   "mimetype": "text/x-python",
   "name": "python",
   "nbconvert_exporter": "python",
   "pygments_lexer": "ipython3",
   "version": "3.10.8"
  }
 },
 "nbformat": 4,
 "nbformat_minor": 5
}
