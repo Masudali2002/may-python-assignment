{
 "cells": [
  {
   "cell_type": "code",
   "execution_count": 1,
   "id": "f2b58c45-6129-4cc8-987c-8cba3b011abc",
   "metadata": {},
   "outputs": [],
   "source": [
    "#Q7. What do you understand about mutable and immutable data types? Give examples for both showing this property."
   ]
  },
  {
   "cell_type": "code",
   "execution_count": 2,
   "id": "582d4b3c-7acf-47ba-9dc2-9f741588ac1a",
   "metadata": {},
   "outputs": [
    {
     "data": {
      "text/plain": [
       "[4, 7.8, 'masud', True]"
      ]
     },
     "execution_count": 2,
     "metadata": {},
     "output_type": "execute_result"
    }
   ],
   "source": [
    "#Ans...An object is considered as mutable if it's value can be modified after it is created.\n",
    "l=[4,7.8,\"pwskills\",True]\n",
    "l[2]=\"masud\"\n",
    "l"
   ]
  },
  {
   "cell_type": "code",
   "execution_count": 3,
   "id": "f2480516-3553-425d-a740-b843e7889236",
   "metadata": {},
   "outputs": [],
   "source": [
    "#so above example we see that list value can be modified.So list is immutable data type."
   ]
  },
  {
   "cell_type": "code",
   "execution_count": null,
   "id": "d221a31c-bfc5-42cb-81a9-7a3090aea959",
   "metadata": {},
   "outputs": [],
   "source": [
    "#Ans...An object is considered as immutable if it's value can't be modified after it's creation.\n",
    "s=\"pwskills\"\n",
    "#if we write (s[1]='m') it shows error.So string is immutable data type. "
   ]
  }
 ],
 "metadata": {
  "kernelspec": {
   "display_name": "Python 3 (ipykernel)",
   "language": "python",
   "name": "python3"
  },
  "language_info": {
   "codemirror_mode": {
    "name": "ipython",
    "version": 3
   },
   "file_extension": ".py",
   "mimetype": "text/x-python",
   "name": "python",
   "nbconvert_exporter": "python",
   "pygments_lexer": "ipython3",
   "version": "3.10.8"
  }
 },
 "nbformat": 4,
 "nbformat_minor": 5
}
